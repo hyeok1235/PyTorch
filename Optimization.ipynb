{
  "nbformat": 4,
  "nbformat_minor": 0,
  "metadata": {
    "colab": {
      "provenance": [],
      "authorship_tag": "ABX9TyOw8LEV0XgX5AskvuN+Rlj0",
      "include_colab_link": true
    },
    "kernelspec": {
      "name": "python3",
      "display_name": "Python 3"
    },
    "language_info": {
      "name": "python"
    }
  },
  "cells": [
    {
      "cell_type": "markdown",
      "metadata": {
        "id": "view-in-github",
        "colab_type": "text"
      },
      "source": [
        "<a href=\"https://colab.research.google.com/github/hyeok1235/PyTorch/blob/main/Optimization.ipynb\" target=\"_parent\"><img src=\"https://colab.research.google.com/assets/colab-badge.svg\" alt=\"Open In Colab\"/></a>"
      ]
    },
    {
      "cell_type": "code",
      "execution_count": 1,
      "metadata": {
        "colab": {
          "base_uri": "https://localhost:8080/"
        },
        "id": "4XvaKfYlzILi",
        "outputId": "8d8f6a14-8ec4-439a-c395-e6a09cd36d9d"
      },
      "outputs": [
        {
          "output_type": "stream",
          "name": "stdout",
          "text": [
            "Downloading http://fashion-mnist.s3-website.eu-central-1.amazonaws.com/train-images-idx3-ubyte.gz\n",
            "Downloading http://fashion-mnist.s3-website.eu-central-1.amazonaws.com/train-images-idx3-ubyte.gz to data/FashionMNIST/raw/train-images-idx3-ubyte.gz\n"
          ]
        },
        {
          "output_type": "stream",
          "name": "stderr",
          "text": [
            "100%|██████████| 26421880/26421880 [00:01<00:00, 18439086.14it/s]\n"
          ]
        },
        {
          "output_type": "stream",
          "name": "stdout",
          "text": [
            "Extracting data/FashionMNIST/raw/train-images-idx3-ubyte.gz to data/FashionMNIST/raw\n",
            "\n",
            "Downloading http://fashion-mnist.s3-website.eu-central-1.amazonaws.com/train-labels-idx1-ubyte.gz\n",
            "Downloading http://fashion-mnist.s3-website.eu-central-1.amazonaws.com/train-labels-idx1-ubyte.gz to data/FashionMNIST/raw/train-labels-idx1-ubyte.gz\n"
          ]
        },
        {
          "output_type": "stream",
          "name": "stderr",
          "text": [
            "100%|██████████| 29515/29515 [00:00<00:00, 344738.44it/s]\n"
          ]
        },
        {
          "output_type": "stream",
          "name": "stdout",
          "text": [
            "Extracting data/FashionMNIST/raw/train-labels-idx1-ubyte.gz to data/FashionMNIST/raw\n",
            "\n",
            "Downloading http://fashion-mnist.s3-website.eu-central-1.amazonaws.com/t10k-images-idx3-ubyte.gz\n",
            "Downloading http://fashion-mnist.s3-website.eu-central-1.amazonaws.com/t10k-images-idx3-ubyte.gz to data/FashionMNIST/raw/t10k-images-idx3-ubyte.gz\n"
          ]
        },
        {
          "output_type": "stream",
          "name": "stderr",
          "text": [
            "100%|██████████| 4422102/4422102 [00:00<00:00, 6223257.18it/s]\n"
          ]
        },
        {
          "output_type": "stream",
          "name": "stdout",
          "text": [
            "Extracting data/FashionMNIST/raw/t10k-images-idx3-ubyte.gz to data/FashionMNIST/raw\n",
            "\n",
            "Downloading http://fashion-mnist.s3-website.eu-central-1.amazonaws.com/t10k-labels-idx1-ubyte.gz\n",
            "Downloading http://fashion-mnist.s3-website.eu-central-1.amazonaws.com/t10k-labels-idx1-ubyte.gz to data/FashionMNIST/raw/t10k-labels-idx1-ubyte.gz\n"
          ]
        },
        {
          "output_type": "stream",
          "name": "stderr",
          "text": [
            "100%|██████████| 5148/5148 [00:00<00:00, 11118577.24it/s]\n"
          ]
        },
        {
          "output_type": "stream",
          "name": "stdout",
          "text": [
            "Extracting data/FashionMNIST/raw/t10k-labels-idx1-ubyte.gz to data/FashionMNIST/raw\n",
            "\n"
          ]
        }
      ],
      "source": [
        "# Prerequisite Code\n",
        "import torch\n",
        "from torch import nn\n",
        "from torch.utils.data import DataLoader\n",
        "from torchvision import datasets\n",
        "from torchvision.transforms import ToTensor\n",
        "\n",
        "training_data = datasets.FashionMNIST(\n",
        "    root=\"data\",\n",
        "    train=True,\n",
        "    download=True,\n",
        "    transform=ToTensor()\n",
        ")\n",
        "\n",
        "test_data = datasets.FashionMNIST(\n",
        "    root=\"data\",\n",
        "    train=False,\n",
        "    download=True,\n",
        "    transform=ToTensor()\n",
        ")\n",
        "\n",
        "train_dataloader = DataLoader(training_data, batch_size=64)\n",
        "test_dataloader = DataLoader(test_data, batch_size=64)\n",
        "\n",
        "class NeuralNetwork(nn.Module):\n",
        "  def __init__(self):\n",
        "    super().__init__()\n",
        "    self.flatten = nn.Flatten()\n",
        "    self.linear_relu_stack = nn.Sequential(\n",
        "        nn.Linear(28*28, 512),\n",
        "        nn.ReLU(),\n",
        "        nn.Linear(512, 512),\n",
        "        nn.ReLU(),\n",
        "        nn.Linear(512, 10),\n",
        "    )\n",
        "\n",
        "  def forward(self, x):\n",
        "    x = self.flatten(x)\n",
        "    logits = self.linear_relu_stack(x)\n",
        "    return logits\n",
        "\n",
        "model = NeuralNetwork()"
      ]
    },
    {
      "cell_type": "markdown",
      "source": [
        "# Hyperparameters"
      ],
      "metadata": {
        "id": "v9_toA5G3KBZ"
      }
    },
    {
      "cell_type": "code",
      "source": [
        "learning_rate = 1e-3\n",
        "batch_size = 64\n",
        "epochs = 5"
      ],
      "metadata": {
        "id": "wR-LlLLk3Nm6"
      },
      "execution_count": 2,
      "outputs": []
    },
    {
      "cell_type": "markdown",
      "source": [
        "# Loss Function"
      ],
      "metadata": {
        "id": "NQrmFc2s3gpH"
      }
    },
    {
      "cell_type": "code",
      "source": [
        "# Initialize the loss function\n",
        "loss_fn = nn.CrossEntropyLoss()"
      ],
      "metadata": {
        "id": "taXQfVts3nsb"
      },
      "execution_count": 3,
      "outputs": []
    },
    {
      "cell_type": "markdown",
      "source": [
        "# Optimizer"
      ],
      "metadata": {
        "id": "csOMqADU3y41"
      }
    },
    {
      "cell_type": "code",
      "source": [
        "optimizer = torch.optim.SGD(model.parameters(), lr=learning_rate)"
      ],
      "metadata": {
        "id": "OhEgsW5o31X9"
      },
      "execution_count": 4,
      "outputs": []
    },
    {
      "cell_type": "markdown",
      "source": [
        "# Full Implementation"
      ],
      "metadata": {
        "id": "vF_9OjMD4PBR"
      }
    },
    {
      "cell_type": "code",
      "source": [
        "def train_loop(dataloader, model, loss_fn, optimizer):\n",
        "  size = len(dataloader.dataset)\n",
        "  # Set the model to training mode - important for batch normalization and dropout layers\n",
        "  # Unnecessary in this situation but added for best practices\n",
        "  model.train()\n",
        "  for batch, (X, y) in enumerate(dataloader):\n",
        "    # Compute prediction and loss\n",
        "    pred = model(X)\n",
        "    loss = loss_fn(pred, y)\n",
        "\n",
        "    # Backpropagation\n",
        "    loss.backward()\n",
        "    optimizer.step()\n",
        "    optimizer.zero_grad()\n",
        "\n",
        "    if batch % 100 == 0:\n",
        "      loss, current = loss.item(), batch * batch_size + len(X)\n",
        "      print(f\"loss: {loss:>7f} [{current:>5d}.{size:>5d}]\")\n",
        "\n",
        "def test_loop(dataloader, model, loss_fn):\n",
        "  # Set the model to evaluation mode - important for batch normalization and dropout layers\n",
        "  # Unnecessary in this situation but added for best practices\n",
        "  model.eval()\n",
        "  size = len(dataloader.dataset)\n",
        "  num_batches = len(dataloader)\n",
        "  test_loss, correct = 0, 0\n",
        "\n",
        "  # Evaluating the model with torch.no_grad() ensures that no gradients are computed during test mode\n",
        "  # also serves to reduce unnecessary gradient computations and memory usage for tensors with requires_grad=True\n",
        "  with torch.no_grad():\n",
        "    for X, y in dataloader:\n",
        "      pred = model(X)\n",
        "      test_loss += loss_fn(pred, y).item()\n",
        "      correct += (pred.argmax(1) == y).type(torch.float).sum().item()\n",
        "\n",
        "  test_loss /= num_batches\n",
        "  correct /= size\n",
        "  print(f\"Test Error: \\n Accuracy: {(100*correct):>0.1f}%, Avg loss: {test_loss:>8f} \\n\")"
      ],
      "metadata": {
        "id": "DtNdOXD34Q9x"
      },
      "execution_count": 7,
      "outputs": []
    },
    {
      "cell_type": "code",
      "source": [
        "loss_fn = nn.CrossEntropyLoss()\n",
        "oprimizer = torch.optim.SGD(model.parameters(), lr=learning_rate)\n",
        "\n",
        "epochs = 10\n",
        "for t in range(epochs):\n",
        "  print(f\"Epoch {t+1}\\n----------------\")\n",
        "  train_loop(train_dataloader, model, loss_fn, optimizer)\n",
        "  test_loop(test_dataloader, model, loss_fn)\n",
        "print(\"Done!\")"
      ],
      "metadata": {
        "colab": {
          "base_uri": "https://localhost:8080/"
        },
        "id": "nDJ3Jmmg5129",
        "outputId": "f86e11e5-14e1-4fb8-88bc-ca0e0da8e2a7"
      },
      "execution_count": 11,
      "outputs": [
        {
          "output_type": "stream",
          "name": "stdout",
          "text": [
            "Epoch 1\n",
            "----------------\n",
            "loss: 0.703560 [   64.60000]\n",
            "loss: 0.815594 [ 6464.60000]\n",
            "loss: 0.572791 [12864.60000]\n",
            "loss: 0.797523 [19264.60000]\n",
            "loss: 0.691908 [25664.60000]\n",
            "loss: 0.685236 [32064.60000]\n",
            "loss: 0.761040 [38464.60000]\n",
            "loss: 0.761460 [44864.60000]\n",
            "loss: 0.732664 [51264.60000]\n",
            "loss: 0.709487 [57664.60000]\n",
            "Test Error: \n",
            " Accuracy: 73.9%, Avg loss: 0.717408 \n",
            "\n",
            "Epoch 2\n",
            "----------------\n",
            "loss: 0.674541 [   64.60000]\n",
            "loss: 0.791438 [ 6464.60000]\n",
            "loss: 0.549691 [12864.60000]\n",
            "loss: 0.780050 [19264.60000]\n",
            "loss: 0.675541 [25664.60000]\n",
            "loss: 0.668300 [32064.60000]\n",
            "loss: 0.740315 [38464.60000]\n",
            "loss: 0.748778 [44864.60000]\n",
            "loss: 0.715648 [51264.60000]\n",
            "loss: 0.692387 [57664.60000]\n",
            "Test Error: \n",
            " Accuracy: 74.8%, Avg loss: 0.699678 \n",
            "\n",
            "Epoch 3\n",
            "----------------\n",
            "loss: 0.648598 [   64.60000]\n",
            "loss: 0.769117 [ 6464.60000]\n",
            "loss: 0.529361 [12864.60000]\n",
            "loss: 0.764508 [19264.60000]\n",
            "loss: 0.660892 [25664.60000]\n",
            "loss: 0.653740 [32064.60000]\n",
            "loss: 0.721006 [38464.60000]\n",
            "loss: 0.737233 [44864.60000]\n",
            "loss: 0.700709 [51264.60000]\n",
            "loss: 0.676694 [57664.60000]\n",
            "Test Error: \n",
            " Accuracy: 75.4%, Avg loss: 0.683440 \n",
            "\n",
            "Epoch 4\n",
            "----------------\n",
            "loss: 0.625307 [   64.60000]\n",
            "loss: 0.748303 [ 6464.60000]\n",
            "loss: 0.511414 [12864.60000]\n",
            "loss: 0.750263 [19264.60000]\n",
            "loss: 0.647823 [25664.60000]\n",
            "loss: 0.641065 [32064.60000]\n",
            "loss: 0.702848 [38464.60000]\n",
            "loss: 0.726671 [44864.60000]\n",
            "loss: 0.687527 [51264.60000]\n",
            "loss: 0.662176 [57664.60000]\n",
            "Test Error: \n",
            " Accuracy: 76.2%, Avg loss: 0.668471 \n",
            "\n",
            "Epoch 5\n",
            "----------------\n",
            "loss: 0.604256 [   64.60000]\n",
            "loss: 0.728927 [ 6464.60000]\n",
            "loss: 0.495367 [12864.60000]\n",
            "loss: 0.737099 [19264.60000]\n",
            "loss: 0.636036 [25664.60000]\n",
            "loss: 0.629957 [32064.60000]\n",
            "loss: 0.685731 [38464.60000]\n",
            "loss: 0.717162 [44864.60000]\n",
            "loss: 0.675872 [51264.60000]\n",
            "loss: 0.648657 [57664.60000]\n",
            "Test Error: \n",
            " Accuracy: 76.8%, Avg loss: 0.654587 \n",
            "\n",
            "Epoch 6\n",
            "----------------\n",
            "loss: 0.585164 [   64.60000]\n",
            "loss: 0.710895 [ 6464.60000]\n",
            "loss: 0.480812 [12864.60000]\n",
            "loss: 0.724815 [19264.60000]\n",
            "loss: 0.625467 [25664.60000]\n",
            "loss: 0.620311 [32064.60000]\n",
            "loss: 0.669800 [38464.60000]\n",
            "loss: 0.708559 [44864.60000]\n",
            "loss: 0.665835 [51264.60000]\n",
            "loss: 0.636190 [57664.60000]\n",
            "Test Error: \n",
            " Accuracy: 77.4%, Avg loss: 0.641838 \n",
            "\n",
            "Epoch 7\n",
            "----------------\n",
            "loss: 0.567902 [   64.60000]\n",
            "loss: 0.694041 [ 6464.60000]\n",
            "loss: 0.467861 [12864.60000]\n",
            "loss: 0.713471 [19264.60000]\n",
            "loss: 0.616226 [25664.60000]\n",
            "loss: 0.611895 [32064.60000]\n",
            "loss: 0.654975 [38464.60000]\n",
            "loss: 0.700924 [44864.60000]\n",
            "loss: 0.657098 [51264.60000]\n",
            "loss: 0.624621 [57664.60000]\n",
            "Test Error: \n",
            " Accuracy: 77.9%, Avg loss: 0.630080 \n",
            "\n",
            "Epoch 8\n",
            "----------------\n",
            "loss: 0.552195 [   64.60000]\n",
            "loss: 0.678320 [ 6464.60000]\n",
            "loss: 0.456096 [12864.60000]\n",
            "loss: 0.702819 [19264.60000]\n",
            "loss: 0.607965 [25664.60000]\n",
            "loss: 0.604359 [32064.60000]\n",
            "loss: 0.641137 [38464.60000]\n",
            "loss: 0.694304 [44864.60000]\n",
            "loss: 0.649631 [51264.60000]\n",
            "loss: 0.613799 [57664.60000]\n",
            "Test Error: \n",
            " Accuracy: 78.3%, Avg loss: 0.619237 \n",
            "\n",
            "Epoch 9\n",
            "----------------\n",
            "loss: 0.537832 [   64.60000]\n",
            "loss: 0.663700 [ 6464.60000]\n",
            "loss: 0.445443 [12864.60000]\n",
            "loss: 0.692876 [19264.60000]\n",
            "loss: 0.600430 [25664.60000]\n",
            "loss: 0.597625 [32064.60000]\n",
            "loss: 0.628215 [38464.60000]\n",
            "loss: 0.688625 [44864.60000]\n",
            "loss: 0.643215 [51264.60000]\n",
            "loss: 0.603511 [57664.60000]\n",
            "Test Error: \n",
            " Accuracy: 78.8%, Avg loss: 0.609247 \n",
            "\n",
            "Epoch 10\n",
            "----------------\n",
            "loss: 0.524649 [   64.60000]\n",
            "loss: 0.650122 [ 6464.60000]\n",
            "loss: 0.435708 [12864.60000]\n",
            "loss: 0.683496 [19264.60000]\n",
            "loss: 0.593515 [25664.60000]\n",
            "loss: 0.591533 [32064.60000]\n",
            "loss: 0.616210 [38464.60000]\n",
            "loss: 0.683812 [44864.60000]\n",
            "loss: 0.637758 [51264.60000]\n",
            "loss: 0.593753 [57664.60000]\n",
            "Test Error: \n",
            " Accuracy: 79.1%, Avg loss: 0.600048 \n",
            "\n",
            "Done!\n"
          ]
        }
      ]
    }
  ]
}