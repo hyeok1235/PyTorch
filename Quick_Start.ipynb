{
  "nbformat": 4,
  "nbformat_minor": 0,
  "metadata": {
    "colab": {
      "provenance": [],
      "gpuType": "T4",
      "include_colab_link": true
    },
    "kernelspec": {
      "name": "python3",
      "display_name": "Python 3"
    },
    "accelerator": "GPU"
  },
  "cells": [
    {
      "cell_type": "markdown",
      "metadata": {
        "id": "view-in-github",
        "colab_type": "text"
      },
      "source": [
        "<a href=\"https://colab.research.google.com/github/hyeok1235/PyTorch/blob/main/Quick_Start.ipynb\" target=\"_parent\"><img src=\"https://colab.research.google.com/assets/colab-badge.svg\" alt=\"Open In Colab\"/></a>"
      ]
    },
    {
      "cell_type": "markdown",
      "source": [
        "# Working with data"
      ],
      "metadata": {
        "id": "1kfDDNpc4fhR"
      }
    },
    {
      "cell_type": "code",
      "source": [
        "import torch"
      ],
      "metadata": {
        "id": "Y-cb6ebS5UC7"
      },
      "execution_count": 3,
      "outputs": []
    },
    {
      "cell_type": "code",
      "source": [
        "from torch import nn\n",
        "from torch.utils.data import DataLoader\n",
        "from torchvision import datasets\n",
        "from torchvision.transforms import ToTensor"
      ],
      "metadata": {
        "id": "I5SKIsj85Veo"
      },
      "execution_count": 4,
      "outputs": []
    },
    {
      "cell_type": "code",
      "source": [
        "# Download training data from open datasets.\n",
        "training_data = datasets.FashionMNIST(\n",
        "    root=\"data\",\n",
        "    train=True,\n",
        "    download=True,\n",
        "    transform=ToTensor(),\n",
        ")\n",
        "\n",
        "# Download test data from open datasets\n",
        "test_data = datasets.FashionMNIST(\n",
        "    root=\"data\",\n",
        "    train=False,\n",
        "    download=True,\n",
        "    transform=ToTensor(),\n",
        ")"
      ],
      "metadata": {
        "colab": {
          "base_uri": "https://localhost:8080/"
        },
        "id": "WBMugBec5rvs",
        "outputId": "dccb305b-e4f0-4ae3-eeb0-fada5f4138b2"
      },
      "execution_count": 5,
      "outputs": [
        {
          "output_type": "stream",
          "name": "stdout",
          "text": [
            "Downloading http://fashion-mnist.s3-website.eu-central-1.amazonaws.com/train-images-idx3-ubyte.gz\n",
            "Downloading http://fashion-mnist.s3-website.eu-central-1.amazonaws.com/train-images-idx3-ubyte.gz to data/FashionMNIST/raw/train-images-idx3-ubyte.gz\n"
          ]
        },
        {
          "output_type": "stream",
          "name": "stderr",
          "text": [
            "100%|██████████| 26421880/26421880 [00:02<00:00, 9790504.83it/s] \n"
          ]
        },
        {
          "output_type": "stream",
          "name": "stdout",
          "text": [
            "Extracting data/FashionMNIST/raw/train-images-idx3-ubyte.gz to data/FashionMNIST/raw\n",
            "\n",
            "Downloading http://fashion-mnist.s3-website.eu-central-1.amazonaws.com/train-labels-idx1-ubyte.gz\n",
            "Downloading http://fashion-mnist.s3-website.eu-central-1.amazonaws.com/train-labels-idx1-ubyte.gz to data/FashionMNIST/raw/train-labels-idx1-ubyte.gz\n"
          ]
        },
        {
          "output_type": "stream",
          "name": "stderr",
          "text": [
            "100%|██████████| 29515/29515 [00:00<00:00, 159465.58it/s]\n"
          ]
        },
        {
          "output_type": "stream",
          "name": "stdout",
          "text": [
            "Extracting data/FashionMNIST/raw/train-labels-idx1-ubyte.gz to data/FashionMNIST/raw\n",
            "\n",
            "Downloading http://fashion-mnist.s3-website.eu-central-1.amazonaws.com/t10k-images-idx3-ubyte.gz\n",
            "Downloading http://fashion-mnist.s3-website.eu-central-1.amazonaws.com/t10k-images-idx3-ubyte.gz to data/FashionMNIST/raw/t10k-images-idx3-ubyte.gz\n"
          ]
        },
        {
          "output_type": "stream",
          "name": "stderr",
          "text": [
            "100%|██████████| 4422102/4422102 [00:01<00:00, 3027639.43it/s]\n"
          ]
        },
        {
          "output_type": "stream",
          "name": "stdout",
          "text": [
            "Extracting data/FashionMNIST/raw/t10k-images-idx3-ubyte.gz to data/FashionMNIST/raw\n",
            "\n",
            "Downloading http://fashion-mnist.s3-website.eu-central-1.amazonaws.com/t10k-labels-idx1-ubyte.gz\n",
            "Downloading http://fashion-mnist.s3-website.eu-central-1.amazonaws.com/t10k-labels-idx1-ubyte.gz to data/FashionMNIST/raw/t10k-labels-idx1-ubyte.gz\n"
          ]
        },
        {
          "output_type": "stream",
          "name": "stderr",
          "text": [
            "100%|██████████| 5148/5148 [00:00<00:00, 3856452.40it/s]"
          ]
        },
        {
          "output_type": "stream",
          "name": "stdout",
          "text": [
            "Extracting data/FashionMNIST/raw/t10k-labels-idx1-ubyte.gz to data/FashionMNIST/raw\n",
            "\n"
          ]
        },
        {
          "output_type": "stream",
          "name": "stderr",
          "text": [
            "\n"
          ]
        }
      ]
    },
    {
      "cell_type": "markdown",
      "source": [
        "# Creating Models"
      ],
      "metadata": {
        "id": "2O9VDfU59iaE"
      }
    },
    {
      "cell_type": "code",
      "source": [
        "batch_size = 64\n",
        "\n",
        "# Create data loaders.\n",
        "train_dataloader = DataLoader(training_data, batch_size=batch_size)\n",
        "test_dataloader = DataLoader(test_data, batch_size=batch_size)\n",
        "\n",
        "for X, y in test_dataloader:\n",
        "  print(f\"Shape of X [N, C, H, W]: {X.shape}\")\n",
        "  print(f\"Shape of y : {y.shape} {y.dtype}\")\n",
        "  break"
      ],
      "metadata": {
        "colab": {
          "base_uri": "https://localhost:8080/"
        },
        "id": "keA6s8T46C1f",
        "outputId": "0419077b-d5e2-4d57-d09e-c2c7fa20ff7d"
      },
      "execution_count": 6,
      "outputs": [
        {
          "output_type": "stream",
          "name": "stdout",
          "text": [
            "Shape of X [N, C, H, W]: torch.Size([64, 1, 28, 28])\n",
            "Shape of y : torch.Size([64]) torch.int64\n"
          ]
        }
      ]
    },
    {
      "cell_type": "code",
      "source": [
        "# Get cpu, gpu or mps device for training\n",
        "device = (\n",
        "    \"cuda\"\n",
        "    if torch.cuda.is_available()\n",
        "    else \"mps\"\n",
        "    if torch.backends.mps.is_available()\n",
        "    else \"cpu\"\n",
        ")\n",
        "print(f\"Using {device} device\")"
      ],
      "metadata": {
        "colab": {
          "base_uri": "https://localhost:8080/"
        },
        "id": "ZiboHomQ65xa",
        "outputId": "88927d81-cb78-4204-e423-ec98a477706e"
      },
      "execution_count": 7,
      "outputs": [
        {
          "output_type": "stream",
          "name": "stdout",
          "text": [
            "Using cuda device\n"
          ]
        }
      ]
    },
    {
      "cell_type": "code",
      "source": [
        "# Define model\n",
        "class NeuralNetwork(nn.Module):\n",
        "  def __init__(self):\n",
        "    super().__init__()\n",
        "    self.flatten = nn.Flatten()\n",
        "    self.linear_relu_stack = nn.Sequential(\n",
        "        nn.Linear(28*28, 512),\n",
        "        nn.ReLU(),\n",
        "        nn.Linear(512, 512),\n",
        "        nn.ReLU(),\n",
        "        nn.Linear(512, 10)\n",
        "    )\n",
        "\n",
        "  def forward(self, x):\n",
        "    x = self.flatten(x)\n",
        "    logits = self.linear_relu_stack(x)\n",
        "    return logits\n",
        "\n",
        "model = NeuralNetwork().to(device)\n",
        "print(model)"
      ],
      "metadata": {
        "colab": {
          "base_uri": "https://localhost:8080/"
        },
        "id": "BFsZgb7E70Hr",
        "outputId": "7572ffe4-35cb-4f3e-c571-09f70b1197a9"
      },
      "execution_count": 8,
      "outputs": [
        {
          "output_type": "stream",
          "name": "stdout",
          "text": [
            "NeuralNetwork(\n",
            "  (flatten): Flatten(start_dim=1, end_dim=-1)\n",
            "  (linear_relu_stack): Sequential(\n",
            "    (0): Linear(in_features=784, out_features=512, bias=True)\n",
            "    (1): ReLU()\n",
            "    (2): Linear(in_features=512, out_features=512, bias=True)\n",
            "    (3): ReLU()\n",
            "    (4): Linear(in_features=512, out_features=10, bias=True)\n",
            "  )\n",
            ")\n"
          ]
        }
      ]
    },
    {
      "cell_type": "markdown",
      "source": [
        "# Optimizing the Model Parameters"
      ],
      "metadata": {
        "id": "5_3Qx_eJ9Oys"
      }
    },
    {
      "cell_type": "code",
      "source": [
        "loss_fn = nn.CrossEntropyLoss()\n",
        "optimizer = torch.optim.SGD(model.parameters(), lr=1e-3)"
      ],
      "metadata": {
        "id": "1d1_Mgmp3jpd"
      },
      "execution_count": 9,
      "outputs": []
    },
    {
      "cell_type": "code",
      "source": [
        "def train(dataloader, model, loss_fn, optimizer):\n",
        "  size = len(dataloader.dataset)\n",
        "  model.train()\n",
        "  for batch, (X, y) in enumerate(dataloader):\n",
        "    X, y = X.to(device), y.to(device)\n",
        "\n",
        "    # Compute prediction error\n",
        "    pred = model(X)\n",
        "    loss = loss_fn(pred, y)\n",
        "\n",
        "    # Backpropagation\n",
        "    loss.backward()\n",
        "    optimizer.step()\n",
        "    optimizer.zero_grad()\n",
        "\n",
        "    if batch % 100 == 0:\n",
        "      loss, current = loss.item(), (batch + 1) * len(X)\n",
        "      print(f\"loss: {loss:>7f} {current:>5d}\")"
      ],
      "metadata": {
        "id": "IpzWjWaf31mJ"
      },
      "execution_count": 10,
      "outputs": []
    },
    {
      "cell_type": "code",
      "source": [
        "def test(dataloader, model, loss_fn):\n",
        "  size = len(dataloader.dataset)\n",
        "  num_batches = len(dataloader)\n",
        "  model.eval()\n",
        "  test_loss, correct = 0, 0\n",
        "  with torch.no_grad():\n",
        "    for X, y in dataloader:\n",
        "      X, y = X.to(device), y.to(device)\n",
        "      pred = model(X)\n",
        "      test_loss += loss_fn(pred, y).item()\n",
        "      correct += (pred.argmax(1) == y).type(torch.float).sum().item()\n",
        "  test_loss /= num_batches\n",
        "  correct /= size\n",
        "  print(f\"Test Error: \\n Accuracy: {(100*correct):>0.1f}%, Avg loss: {test_loss:>8f} \\n\")"
      ],
      "metadata": {
        "id": "utXR3nXh4nK5"
      },
      "execution_count": 13,
      "outputs": []
    },
    {
      "cell_type": "code",
      "source": [
        "epochs = 10\n",
        "for t in range(epochs):\n",
        "  print(f\"Epoch {t+1}\\n-------------------\")\n",
        "  train(train_dataloader, model, loss_fn, optimizer)\n",
        "  test(test_dataloader, model, loss_fn)\n",
        "print(\"Done!\")"
      ],
      "metadata": {
        "colab": {
          "base_uri": "https://localhost:8080/"
        },
        "id": "eD3pc0BJ5Syb",
        "outputId": "5b6a9095-2cd8-4ae6-bcef-1e7733edc639"
      },
      "execution_count": 15,
      "outputs": [
        {
          "output_type": "stream",
          "name": "stdout",
          "text": [
            "Epoch 1\n",
            "-------------------\n",
            "loss: 1.036746    64\n",
            "loss: 1.056906  6464\n",
            "loss: 0.856080 12864\n",
            "loss: 1.022511 19264\n",
            "loss: 0.899429 25664\n",
            "loss: 0.919994 32064\n",
            "loss: 0.976145 38464\n",
            "loss: 0.914831 44864\n",
            "loss: 0.953659 51264\n",
            "loss: 0.895857 57664\n",
            "Test Error: \n",
            " Accuracy: 66.9%, Avg loss: 0.909698 \n",
            "\n",
            "Epoch 2\n",
            "-------------------\n",
            "loss: 0.950450    64\n",
            "loss: 0.988189  6464\n",
            "loss: 0.773816 12864\n",
            "loss: 0.956610 19264\n",
            "loss: 0.841422 25664\n",
            "loss: 0.852867 32064\n",
            "loss: 0.922903 38464\n",
            "loss: 0.864481 44864\n",
            "loss: 0.897834 51264\n",
            "loss: 0.849628 57664\n",
            "Test Error: \n",
            " Accuracy: 68.2%, Avg loss: 0.858118 \n",
            "\n",
            "Epoch 3\n",
            "-------------------\n",
            "loss: 0.884145    64\n",
            "loss: 0.937317  6464\n",
            "loss: 0.713217 12864\n",
            "loss: 0.907754 19264\n",
            "loss: 0.800788 25664\n",
            "loss: 0.802794 32064\n",
            "loss: 0.883135 38464\n",
            "loss: 0.829371 44864\n",
            "loss: 0.855929 51264\n",
            "loss: 0.814880 57664\n",
            "Test Error: \n",
            " Accuracy: 69.3%, Avg loss: 0.819215 \n",
            "\n",
            "Epoch 4\n",
            "-------------------\n",
            "loss: 0.830954    64\n",
            "loss: 0.897016  6464\n",
            "loss: 0.666683 12864\n",
            "loss: 0.870295 19264\n",
            "loss: 0.770256 25664\n",
            "loss: 0.764369 32064\n",
            "loss: 0.850849 38464\n",
            "loss: 0.803545 44864\n",
            "loss: 0.822932 51264\n",
            "loss: 0.787010 57664\n",
            "Test Error: \n",
            " Accuracy: 70.7%, Avg loss: 0.788214 \n",
            "\n",
            "Epoch 5\n",
            "-------------------\n",
            "loss: 0.786771    64\n",
            "loss: 0.863314  6464\n",
            "loss: 0.629612 12864\n",
            "loss: 0.840518 19264\n",
            "loss: 0.745718 25664\n",
            "loss: 0.733987 32064\n",
            "loss: 0.823082 38464\n",
            "loss: 0.783366 44864\n",
            "loss: 0.795922 51264\n",
            "loss: 0.763648 57664\n",
            "Test Error: \n",
            " Accuracy: 72.0%, Avg loss: 0.762470 \n",
            "\n",
            "Epoch 6\n",
            "-------------------\n",
            "loss: 0.749050    64\n",
            "loss: 0.833917  6464\n",
            "loss: 0.599019 12864\n",
            "loss: 0.815880 19264\n",
            "loss: 0.725128 25664\n",
            "loss: 0.709189 32064\n",
            "loss: 0.798186 38464\n",
            "loss: 0.766441 44864\n",
            "loss: 0.773071 51264\n",
            "loss: 0.743267 57664\n",
            "Test Error: \n",
            " Accuracy: 73.2%, Avg loss: 0.740180 \n",
            "\n",
            "Epoch 7\n",
            "-------------------\n",
            "loss: 0.716058    64\n",
            "loss: 0.807487  6464\n",
            "loss: 0.572943 12864\n",
            "loss: 0.795022 19264\n",
            "loss: 0.707327 25664\n",
            "loss: 0.688552 32064\n",
            "loss: 0.775159 38464\n",
            "loss: 0.751681 44864\n",
            "loss: 0.753157 51264\n",
            "loss: 0.724856 57664\n",
            "Test Error: \n",
            " Accuracy: 74.2%, Avg loss: 0.720326 \n",
            "\n",
            "Epoch 8\n",
            "-------------------\n",
            "loss: 0.686639    64\n",
            "loss: 0.783363  6464\n",
            "loss: 0.550219 12864\n",
            "loss: 0.776828 19264\n",
            "loss: 0.691613 25664\n",
            "loss: 0.671088 32064\n",
            "loss: 0.753653 38464\n",
            "loss: 0.738411 44864\n",
            "loss: 0.735591 51264\n",
            "loss: 0.708007 57664\n",
            "Test Error: \n",
            " Accuracy: 75.0%, Avg loss: 0.702309 \n",
            "\n",
            "Epoch 9\n",
            "-------------------\n",
            "loss: 0.660272    64\n",
            "loss: 0.761050  6464\n",
            "loss: 0.530272 12864\n",
            "loss: 0.760586 19264\n",
            "loss: 0.677477 25664\n",
            "loss: 0.656150 32064\n",
            "loss: 0.733466 38464\n",
            "loss: 0.726554 44864\n",
            "loss: 0.719951 51264\n",
            "loss: 0.692513 57664\n",
            "Test Error: \n",
            " Accuracy: 75.7%, Avg loss: 0.685846 \n",
            "\n",
            "Epoch 10\n",
            "-------------------\n",
            "loss: 0.636435    64\n",
            "loss: 0.740498  6464\n",
            "loss: 0.512454 12864\n",
            "loss: 0.745921 19264\n",
            "loss: 0.664773 25664\n",
            "loss: 0.643185 32064\n",
            "loss: 0.714392 38464\n",
            "loss: 0.715892 44864\n",
            "loss: 0.705994 51264\n",
            "loss: 0.678005 57664\n",
            "Test Error: \n",
            " Accuracy: 76.6%, Avg loss: 0.670741 \n",
            "\n",
            "Done!\n"
          ]
        }
      ]
    },
    {
      "cell_type": "markdown",
      "source": [
        "# Saving Models"
      ],
      "metadata": {
        "id": "mHNCwZxk6XiR"
      }
    },
    {
      "cell_type": "code",
      "source": [
        "torch.save(model.state_dict(), \"model.pth\")\n",
        "print(\"Saved PyTorch Model State to model.pth\")"
      ],
      "metadata": {
        "colab": {
          "base_uri": "https://localhost:8080/"
        },
        "id": "bYX-jRJG6ats",
        "outputId": "ea46bd14-6c0b-4733-98b4-993085cb6c91"
      },
      "execution_count": 17,
      "outputs": [
        {
          "output_type": "stream",
          "name": "stdout",
          "text": [
            "Saved PyTorch Model State to model.pth\n"
          ]
        }
      ]
    },
    {
      "cell_type": "markdown",
      "source": [
        "# Loading Models"
      ],
      "metadata": {
        "id": "rFOI59Xi6gm7"
      }
    },
    {
      "cell_type": "code",
      "source": [
        "model = NeuralNetwork().to(device)\n",
        "model.load_state_dict(torch.load(\"model.pth\"))"
      ],
      "metadata": {
        "colab": {
          "base_uri": "https://localhost:8080/"
        },
        "id": "th1Pjx7W6us8",
        "outputId": "531bf5d8-66e8-4b97-faef-03ea0552182a"
      },
      "execution_count": 18,
      "outputs": [
        {
          "output_type": "execute_result",
          "data": {
            "text/plain": [
              "<All keys matched successfully>"
            ]
          },
          "metadata": {},
          "execution_count": 18
        }
      ]
    },
    {
      "cell_type": "code",
      "source": [
        "classes = [\n",
        "    \"T-shirt/top\",\n",
        "    \"Trouser\",\n",
        "    \"Pullover\",\n",
        "    \"Dress\",\n",
        "    \"Coat\",\n",
        "    \"Sandal\",\n",
        "    \"Shirt\",\n",
        "    \"Sneaker\",\n",
        "    \"Bag\",\n",
        "    \"Ankle boot\",\n",
        "]\n",
        "\n",
        "model.eval()\n",
        "x, y = test_data[0][0], test_data[0][1]\n",
        "with torch.no_grad():\n",
        "  x = x.to(device)\n",
        "  pred = model(x)\n",
        "  predicted, actual = classes[pred[0].argmax(0)], classes[y]\n",
        "  print(f'Predicted: \"{predicted}\", Actual: \"{actual}\"')"
      ],
      "metadata": {
        "colab": {
          "base_uri": "https://localhost:8080/"
        },
        "id": "wyEaNNhq606T",
        "outputId": "271397fe-4201-4464-ea11-3b571f503ded"
      },
      "execution_count": 19,
      "outputs": [
        {
          "output_type": "stream",
          "name": "stdout",
          "text": [
            "Predicted: \"Ankle boot\", Actual: \"Ankle boot\"\n"
          ]
        }
      ]
    }
  ]
}